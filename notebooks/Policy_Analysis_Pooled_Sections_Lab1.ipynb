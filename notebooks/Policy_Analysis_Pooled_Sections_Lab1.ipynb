{
  "nbformat": 4,
  "nbformat_minor": 0,
  "metadata": {
    "colab": {
      "provenance": [],
      "authorship_tag": "ABX9TyOu6FNN8m9ARp3oOiJ6zDCE"
    },
    "kernelspec": {
      "name": "python3",
      "display_name": "Python 3"
    },
    "language_info": {
      "name": "python"
    }
  },
  "cells": [
    {
      "cell_type": "markdown",
      "source": [
        "# Policy Analysis with Pooled Cross Sections (Lab1)"
      ],
      "metadata": {
        "id": "9Koy8IdCva-p"
      }
    },
    {
      "cell_type": "markdown",
      "source": [
        "### Intro and objectives\n",
        "\n",
        "\n",
        "### In this lab you will learn:\n",
        "1. examples of policy analysis using Pooled Cross Sections\n",
        "2. how to fit pooled cross sectional models in Python\n",
        "\n",
        "\n",
        "## What I hope you'll get out of this lab\n",
        "* The feeling that you'll \"know where to start\" when you need to evaluate the effect of policies or changes in a population\n",
        "* Worked Examples\n",
        "* How to interpret the results obtained"
      ],
      "metadata": {
        "id": "DiOUGkzJvkIq"
      }
    },
    {
      "cell_type": "code",
      "execution_count": null,
      "metadata": {
        "colab": {
          "base_uri": "https://localhost:8080/"
        },
        "id": "31p3EWLtvZq_",
        "outputId": "4d9e647e-aa03-4ff8-b394-0975019bd338"
      },
      "outputs": [
        {
          "output_type": "stream",
          "name": "stdout",
          "text": [
            "Looking in indexes: https://pypi.org/simple, https://us-python.pkg.dev/colab-wheels/public/simple/\n",
            "Requirement already satisfied: wooldridge in /usr/local/lib/python3.8/dist-packages (0.4.4)\n",
            "Requirement already satisfied: pandas in /usr/local/lib/python3.8/dist-packages (from wooldridge) (1.3.5)\n",
            "Requirement already satisfied: numpy>=1.17.3 in /usr/local/lib/python3.8/dist-packages (from pandas->wooldridge) (1.21.6)\n",
            "Requirement already satisfied: python-dateutil>=2.7.3 in /usr/local/lib/python3.8/dist-packages (from pandas->wooldridge) (2.8.2)\n",
            "Requirement already satisfied: pytz>=2017.3 in /usr/local/lib/python3.8/dist-packages (from pandas->wooldridge) (2022.7)\n",
            "Requirement already satisfied: six>=1.5 in /usr/local/lib/python3.8/dist-packages (from python-dateutil>=2.7.3->pandas->wooldridge) (1.15.0)\n"
          ]
        }
      ],
      "source": [
        "!pip install wooldridge\n",
        "import wooldridge as woo\n",
        "import statsmodels.formula.api as smf\n",
        "import matplotlib.pyplot as plt\n",
        "import seaborn as sns\n",
        "import pandas as pd\n",
        "import numpy as np"
      ]
    },
    {
      "cell_type": "markdown",
      "source": [
        "# Example. Effect of Worker Compensation Laws on Weeks out of Work\n",
        "\n",
        "#### Meyer, Viscusi, and Durbin (1995) (hereafter, MVD) studied the length of time (in weeks) that an injured worker receives workers’ compensation. On July 15, 1980, Kentucky raised the cap on weekly earnings that were covered by workers’ compensation. An increase in the cap has no effect on the benefit for lowincome workers, but it makes it less costly for a high-income worker to stay on workers’ compensation.\n",
        "\n",
        "#### Therefore, the control group is low-income workers, and the treatment group is high-income workers; high-income workers are defined as those who were subject to the pre-policy change cap.\n",
        "\n",
        "#### Using random samples both before and after the policy change, MVD were able to test whether more generous workers’ compensation causes people to stay out of work longer (everything else fixed).\n",
        "\n",
        "\n"
      ],
      "metadata": {
        "id": "aEHpzweDwqTa"
      }
    },
    {
      "cell_type": "markdown",
      "source": [
        "\n",
        "\n",
        "\n",
        "\n",
        "\n",
        "\n",
        "\n",
        "\n",
        "#### In this case we start by fitting a pooled cross section-based model such as:\n",
        "\n",
        "\n",
        "$ log(durat)=\\beta_0+δ_o*afchnge+\\beta_1*highearn+\\beta_2*afchnge*highearn $\n",
        "\n",
        "#### Using log(durat) as the dependent variable. Let afchnge be the dummy variable for observations after the policy change and highearn the dummy variable for high earners.\n",
        "\n",
        "#### The parameter of interest is on the interaction term afchnge·highearn: $δ_1$ measures the impact of the policy change (cap raise on weekly earnings) on the average length of time on workers’ compensation for high earners\n"
      ],
      "metadata": {
        "id": "qHmLOQ7MxEbJ"
      }
    },
    {
      "cell_type": "code",
      "source": [
        "injury = woo.dataWoo('injury')"
      ],
      "metadata": {
        "id": "2ma8vEoPxGI_"
      },
      "execution_count": null,
      "outputs": []
    },
    {
      "cell_type": "code",
      "source": [
        "injury.head()"
      ],
      "metadata": {
        "colab": {
          "base_uri": "https://localhost:8080/",
          "height": 299
        },
        "id": "uNliv4ZZ0OeX",
        "outputId": "617cf98a-b643-4580-cab9-2f24e65d5dd1"
      },
      "execution_count": null,
      "outputs": [
        {
          "output_type": "execute_result",
          "data": {
            "text/plain": [
              "   durat  afchnge  highearn  male  married  hosp  indust  injtype   age  \\\n",
              "0    1.0        1         1   1.0      0.0     1     3.0        1  26.0   \n",
              "1    1.0        1         1   1.0      1.0     0     3.0        1  31.0   \n",
              "2   84.0        1         1   1.0      1.0     1     3.0        1  37.0   \n",
              "3    4.0        1         1   1.0      1.0     1     3.0        1  31.0   \n",
              "4    1.0        1         1   1.0      1.0     0     3.0        1  23.0   \n",
              "\n",
              "      prewage  ...  head  neck  upextr  trunk  lowback  lowextr  occdis  \\\n",
              "0  404.950012  ...     1     0       0      0        0        0       0   \n",
              "1  643.825012  ...     1     0       0      0        0        0       0   \n",
              "2  398.125000  ...     1     0       0      0        0        0       0   \n",
              "3  527.799988  ...     1     0       0      0        0        0       0   \n",
              "4  528.937500  ...     1     0       0      0        0        0       0   \n",
              "\n",
              "   manuf  construc  highlpre  \n",
              "0    0.0       0.0  6.003764  \n",
              "1    0.0       0.0  6.467427  \n",
              "2    0.0       0.0  5.986766  \n",
              "3    0.0       0.0  6.268717  \n",
              "4    0.0       0.0  6.270870  \n",
              "\n",
              "[5 rows x 30 columns]"
            ],
            "text/html": [
              "\n",
              "  <div id=\"df-bcafe3f0-8b12-47c3-8664-13cb6c8aa0b0\">\n",
              "    <div class=\"colab-df-container\">\n",
              "      <div>\n",
              "<style scoped>\n",
              "    .dataframe tbody tr th:only-of-type {\n",
              "        vertical-align: middle;\n",
              "    }\n",
              "\n",
              "    .dataframe tbody tr th {\n",
              "        vertical-align: top;\n",
              "    }\n",
              "\n",
              "    .dataframe thead th {\n",
              "        text-align: right;\n",
              "    }\n",
              "</style>\n",
              "<table border=\"1\" class=\"dataframe\">\n",
              "  <thead>\n",
              "    <tr style=\"text-align: right;\">\n",
              "      <th></th>\n",
              "      <th>durat</th>\n",
              "      <th>afchnge</th>\n",
              "      <th>highearn</th>\n",
              "      <th>male</th>\n",
              "      <th>married</th>\n",
              "      <th>hosp</th>\n",
              "      <th>indust</th>\n",
              "      <th>injtype</th>\n",
              "      <th>age</th>\n",
              "      <th>prewage</th>\n",
              "      <th>...</th>\n",
              "      <th>head</th>\n",
              "      <th>neck</th>\n",
              "      <th>upextr</th>\n",
              "      <th>trunk</th>\n",
              "      <th>lowback</th>\n",
              "      <th>lowextr</th>\n",
              "      <th>occdis</th>\n",
              "      <th>manuf</th>\n",
              "      <th>construc</th>\n",
              "      <th>highlpre</th>\n",
              "    </tr>\n",
              "  </thead>\n",
              "  <tbody>\n",
              "    <tr>\n",
              "      <th>0</th>\n",
              "      <td>1.0</td>\n",
              "      <td>1</td>\n",
              "      <td>1</td>\n",
              "      <td>1.0</td>\n",
              "      <td>0.0</td>\n",
              "      <td>1</td>\n",
              "      <td>3.0</td>\n",
              "      <td>1</td>\n",
              "      <td>26.0</td>\n",
              "      <td>404.950012</td>\n",
              "      <td>...</td>\n",
              "      <td>1</td>\n",
              "      <td>0</td>\n",
              "      <td>0</td>\n",
              "      <td>0</td>\n",
              "      <td>0</td>\n",
              "      <td>0</td>\n",
              "      <td>0</td>\n",
              "      <td>0.0</td>\n",
              "      <td>0.0</td>\n",
              "      <td>6.003764</td>\n",
              "    </tr>\n",
              "    <tr>\n",
              "      <th>1</th>\n",
              "      <td>1.0</td>\n",
              "      <td>1</td>\n",
              "      <td>1</td>\n",
              "      <td>1.0</td>\n",
              "      <td>1.0</td>\n",
              "      <td>0</td>\n",
              "      <td>3.0</td>\n",
              "      <td>1</td>\n",
              "      <td>31.0</td>\n",
              "      <td>643.825012</td>\n",
              "      <td>...</td>\n",
              "      <td>1</td>\n",
              "      <td>0</td>\n",
              "      <td>0</td>\n",
              "      <td>0</td>\n",
              "      <td>0</td>\n",
              "      <td>0</td>\n",
              "      <td>0</td>\n",
              "      <td>0.0</td>\n",
              "      <td>0.0</td>\n",
              "      <td>6.467427</td>\n",
              "    </tr>\n",
              "    <tr>\n",
              "      <th>2</th>\n",
              "      <td>84.0</td>\n",
              "      <td>1</td>\n",
              "      <td>1</td>\n",
              "      <td>1.0</td>\n",
              "      <td>1.0</td>\n",
              "      <td>1</td>\n",
              "      <td>3.0</td>\n",
              "      <td>1</td>\n",
              "      <td>37.0</td>\n",
              "      <td>398.125000</td>\n",
              "      <td>...</td>\n",
              "      <td>1</td>\n",
              "      <td>0</td>\n",
              "      <td>0</td>\n",
              "      <td>0</td>\n",
              "      <td>0</td>\n",
              "      <td>0</td>\n",
              "      <td>0</td>\n",
              "      <td>0.0</td>\n",
              "      <td>0.0</td>\n",
              "      <td>5.986766</td>\n",
              "    </tr>\n",
              "    <tr>\n",
              "      <th>3</th>\n",
              "      <td>4.0</td>\n",
              "      <td>1</td>\n",
              "      <td>1</td>\n",
              "      <td>1.0</td>\n",
              "      <td>1.0</td>\n",
              "      <td>1</td>\n",
              "      <td>3.0</td>\n",
              "      <td>1</td>\n",
              "      <td>31.0</td>\n",
              "      <td>527.799988</td>\n",
              "      <td>...</td>\n",
              "      <td>1</td>\n",
              "      <td>0</td>\n",
              "      <td>0</td>\n",
              "      <td>0</td>\n",
              "      <td>0</td>\n",
              "      <td>0</td>\n",
              "      <td>0</td>\n",
              "      <td>0.0</td>\n",
              "      <td>0.0</td>\n",
              "      <td>6.268717</td>\n",
              "    </tr>\n",
              "    <tr>\n",
              "      <th>4</th>\n",
              "      <td>1.0</td>\n",
              "      <td>1</td>\n",
              "      <td>1</td>\n",
              "      <td>1.0</td>\n",
              "      <td>1.0</td>\n",
              "      <td>0</td>\n",
              "      <td>3.0</td>\n",
              "      <td>1</td>\n",
              "      <td>23.0</td>\n",
              "      <td>528.937500</td>\n",
              "      <td>...</td>\n",
              "      <td>1</td>\n",
              "      <td>0</td>\n",
              "      <td>0</td>\n",
              "      <td>0</td>\n",
              "      <td>0</td>\n",
              "      <td>0</td>\n",
              "      <td>0</td>\n",
              "      <td>0.0</td>\n",
              "      <td>0.0</td>\n",
              "      <td>6.270870</td>\n",
              "    </tr>\n",
              "  </tbody>\n",
              "</table>\n",
              "<p>5 rows × 30 columns</p>\n",
              "</div>\n",
              "      <button class=\"colab-df-convert\" onclick=\"convertToInteractive('df-bcafe3f0-8b12-47c3-8664-13cb6c8aa0b0')\"\n",
              "              title=\"Convert this dataframe to an interactive table.\"\n",
              "              style=\"display:none;\">\n",
              "        \n",
              "  <svg xmlns=\"http://www.w3.org/2000/svg\" height=\"24px\"viewBox=\"0 0 24 24\"\n",
              "       width=\"24px\">\n",
              "    <path d=\"M0 0h24v24H0V0z\" fill=\"none\"/>\n",
              "    <path d=\"M18.56 5.44l.94 2.06.94-2.06 2.06-.94-2.06-.94-.94-2.06-.94 2.06-2.06.94zm-11 1L8.5 8.5l.94-2.06 2.06-.94-2.06-.94L8.5 2.5l-.94 2.06-2.06.94zm10 10l.94 2.06.94-2.06 2.06-.94-2.06-.94-.94-2.06-.94 2.06-2.06.94z\"/><path d=\"M17.41 7.96l-1.37-1.37c-.4-.4-.92-.59-1.43-.59-.52 0-1.04.2-1.43.59L10.3 9.45l-7.72 7.72c-.78.78-.78 2.05 0 2.83L4 21.41c.39.39.9.59 1.41.59.51 0 1.02-.2 1.41-.59l7.78-7.78 2.81-2.81c.8-.78.8-2.07 0-2.86zM5.41 20L4 18.59l7.72-7.72 1.47 1.35L5.41 20z\"/>\n",
              "  </svg>\n",
              "      </button>\n",
              "      \n",
              "  <style>\n",
              "    .colab-df-container {\n",
              "      display:flex;\n",
              "      flex-wrap:wrap;\n",
              "      gap: 12px;\n",
              "    }\n",
              "\n",
              "    .colab-df-convert {\n",
              "      background-color: #E8F0FE;\n",
              "      border: none;\n",
              "      border-radius: 50%;\n",
              "      cursor: pointer;\n",
              "      display: none;\n",
              "      fill: #1967D2;\n",
              "      height: 32px;\n",
              "      padding: 0 0 0 0;\n",
              "      width: 32px;\n",
              "    }\n",
              "\n",
              "    .colab-df-convert:hover {\n",
              "      background-color: #E2EBFA;\n",
              "      box-shadow: 0px 1px 2px rgba(60, 64, 67, 0.3), 0px 1px 3px 1px rgba(60, 64, 67, 0.15);\n",
              "      fill: #174EA6;\n",
              "    }\n",
              "\n",
              "    [theme=dark] .colab-df-convert {\n",
              "      background-color: #3B4455;\n",
              "      fill: #D2E3FC;\n",
              "    }\n",
              "\n",
              "    [theme=dark] .colab-df-convert:hover {\n",
              "      background-color: #434B5C;\n",
              "      box-shadow: 0px 1px 3px 1px rgba(0, 0, 0, 0.15);\n",
              "      filter: drop-shadow(0px 1px 2px rgba(0, 0, 0, 0.3));\n",
              "      fill: #FFFFFF;\n",
              "    }\n",
              "  </style>\n",
              "\n",
              "      <script>\n",
              "        const buttonEl =\n",
              "          document.querySelector('#df-bcafe3f0-8b12-47c3-8664-13cb6c8aa0b0 button.colab-df-convert');\n",
              "        buttonEl.style.display =\n",
              "          google.colab.kernel.accessAllowed ? 'block' : 'none';\n",
              "\n",
              "        async function convertToInteractive(key) {\n",
              "          const element = document.querySelector('#df-bcafe3f0-8b12-47c3-8664-13cb6c8aa0b0');\n",
              "          const dataTable =\n",
              "            await google.colab.kernel.invokeFunction('convertToInteractive',\n",
              "                                                     [key], {});\n",
              "          if (!dataTable) return;\n",
              "\n",
              "          const docLinkHtml = 'Like what you see? Visit the ' +\n",
              "            '<a target=\"_blank\" href=https://colab.research.google.com/notebooks/data_table.ipynb>data table notebook</a>'\n",
              "            + ' to learn more about interactive tables.';\n",
              "          element.innerHTML = '';\n",
              "          dataTable['output_type'] = 'display_data';\n",
              "          await google.colab.output.renderOutput(dataTable, element);\n",
              "          const docLink = document.createElement('div');\n",
              "          docLink.innerHTML = docLinkHtml;\n",
              "          element.appendChild(docLink);\n",
              "        }\n",
              "      </script>\n",
              "    </div>\n",
              "  </div>\n",
              "  "
            ]
          },
          "metadata": {},
          "execution_count": 17
        }
      ]
    },
    {
      "cell_type": "code",
      "source": [
        "type(injury)"
      ],
      "metadata": {
        "colab": {
          "base_uri": "https://localhost:8080/"
        },
        "id": "xPiVcFZAzh1t",
        "outputId": "a115edec-354f-4e0c-fb2d-70ba83bf81de"
      },
      "execution_count": null,
      "outputs": [
        {
          "output_type": "execute_result",
          "data": {
            "text/plain": [
              "pandas.core.frame.DataFrame"
            ]
          },
          "metadata": {},
          "execution_count": 18
        }
      ]
    },
    {
      "cell_type": "code",
      "source": [
        "injury.info()"
      ],
      "metadata": {
        "colab": {
          "base_uri": "https://localhost:8080/"
        },
        "id": "vwM6KSPgqGod",
        "outputId": "61586ba8-982b-4891-f95c-32befa2648c8"
      },
      "execution_count": null,
      "outputs": [
        {
          "output_type": "stream",
          "name": "stdout",
          "text": [
            "<class 'pandas.core.frame.DataFrame'>\n",
            "RangeIndex: 7150 entries, 0 to 7149\n",
            "Data columns (total 30 columns):\n",
            " #   Column    Non-Null Count  Dtype  \n",
            "---  ------    --------------  -----  \n",
            " 0   durat     7150 non-null   float64\n",
            " 1   afchnge   7150 non-null   int64  \n",
            " 2   highearn  7150 non-null   int64  \n",
            " 3   male      7134 non-null   float64\n",
            " 4   married   6853 non-null   float64\n",
            " 5   hosp      7150 non-null   int64  \n",
            " 6   indust    7125 non-null   float64\n",
            " 7   injtype   7150 non-null   int64  \n",
            " 8   age       7146 non-null   float64\n",
            " 9   prewage   7150 non-null   float64\n",
            " 10  totmed    7150 non-null   float64\n",
            " 11  injdes    7150 non-null   int64  \n",
            " 12  benefit   7150 non-null   float64\n",
            " 13  ky        7150 non-null   int64  \n",
            " 14  mi        7150 non-null   int64  \n",
            " 15  ldurat    7150 non-null   float64\n",
            " 16  afhigh    7150 non-null   int64  \n",
            " 17  lprewage  7150 non-null   float64\n",
            " 18  lage      7146 non-null   float64\n",
            " 19  ltotmed   7150 non-null   float64\n",
            " 20  head      7150 non-null   int64  \n",
            " 21  neck      7150 non-null   int64  \n",
            " 22  upextr    7150 non-null   int64  \n",
            " 23  trunk     7150 non-null   int64  \n",
            " 24  lowback   7150 non-null   int64  \n",
            " 25  lowextr   7150 non-null   int64  \n",
            " 26  occdis    7150 non-null   int64  \n",
            " 27  manuf     7125 non-null   float64\n",
            " 28  construc  7125 non-null   float64\n",
            " 29  highlpre  7150 non-null   float64\n",
            "dtypes: float64(15), int64(15)\n",
            "memory usage: 1.6 MB\n"
          ]
        }
      ]
    },
    {
      "cell_type": "code",
      "source": [
        "# joint regression including an interaction term:\n",
        "reg_1 = smf.ols(formula='ldurat ~ afchnge+highearn+afchnge*highearn', data=injury)\n",
        "results_1 = reg_1.fit()"
      ],
      "metadata": {
        "id": "xNYUa6c-0ZYd"
      },
      "execution_count": null,
      "outputs": []
    },
    {
      "cell_type": "code",
      "source": [
        "results_1.rsquared"
      ],
      "metadata": {
        "colab": {
          "base_uri": "https://localhost:8080/"
        },
        "id": "o1812FBy5n_A",
        "outputId": "d7ff8539-eb84-4823-a49a-1f6cce32d2cd"
      },
      "execution_count": null,
      "outputs": [
        {
          "output_type": "execute_result",
          "data": {
            "text/plain": [
              "0.015841687920047365"
            ]
          },
          "metadata": {},
          "execution_count": 21
        }
      ]
    },
    {
      "cell_type": "code",
      "source": [
        "table_1 = pd.DataFrame({'b': round(results_1.params, 4),\n",
        "                            'se': round(results_1.bse, 4),\n",
        "                            't': round(results_1.tvalues, 4),\n",
        "                            'pval': round(results_1.pvalues, 4)})\n",
        "print(f'table_1: \\n{table_1}\\n')\n",
        "print(f'R-Squared: {results_1.rsquared}')"
      ],
      "metadata": {
        "colab": {
          "base_uri": "https://localhost:8080/"
        },
        "id": "VWLFz7bymG1O",
        "outputId": "8fd4d274-80cb-4205-bf77-ab45add35ded"
      },
      "execution_count": null,
      "outputs": [
        {
          "output_type": "stream",
          "name": "stdout",
          "text": [
            "table_1: \n",
            "                       b      se        t    pval\n",
            "Intercept         1.1993  0.0271  44.2411  0.0000\n",
            "afchnge           0.0236  0.0397   0.5953  0.5516\n",
            "highearn          0.2152  0.0434   4.9629  0.0000\n",
            "afchnge:highearn  0.1883  0.0628   2.9995  0.0027\n",
            "\n",
            "R-Squared: 0.015841687920047365\n"
          ]
        }
      ]
    },
    {
      "cell_type": "markdown",
      "source": [
        "## Based on the previous we have fitted the following model:\n",
        "\n",
        "\n",
        "\n",
        "\n",
        "$ log(duration)=1.19+0.023*afchnge+0.215*highearn+0.1883*afchnge*highearn$"
      ],
      "metadata": {
        "id": "TD99-pf-1RVu"
      }
    },
    {
      "cell_type": "markdown",
      "source": [
        "## How do we interpret the equation?\n",
        "\n",
        "#### Based on the fitted model, we conclude:\n",
        "\n",
        "\n",
        "#### 1. The interaction coefficient,$\\delta_1=0.1883$, is large and statistically significant (p-value:0.0027) which implies that the average length of time on workers’ compensation for high earners increased by about 18.8% due to the increased earnings cap.\n",
        "#### 2. The coefficient on afchnge is small and statistically insignificant\n",
        "#### 3. The coefficient on highearn is large (0.215) and statistically significant (p-value:0.0000). This means that high earners tend to remain for longer periods of time out of work when injured that their low earner counterparts.\n",
        "\n",
        "## Therefore we are finding evidence on the impact of the change in compensation policy.\n",
        "\n"
      ],
      "metadata": {
        "id": "gXrsythK1wue"
      }
    },
    {
      "cell_type": "code",
      "source": [],
      "metadata": {
        "id": "u-KAKFzeow8q"
      },
      "execution_count": null,
      "outputs": []
    },
    {
      "cell_type": "markdown",
      "source": [
        "#### Given the R-squared for the previous model, only 1.5% of the variation in log(durat). This makes sense: there are clearly many factors, including severity of the injury, that affect how long someone receives workers’ compensation.\n",
        "\n",
        "#### We can add more factors to try to improve the model."
      ],
      "metadata": {
        "id": "897x-uZRE3Ac"
      }
    },
    {
      "cell_type": "code",
      "source": [
        "# joint regression including an interaction term:\n",
        "reg_2 = smf.ols(formula='ldurat ~ afchnge+highearn+afchnge*highearn+afhigh+male+married+head+neck+upextr+trunk+lowback+lowextr', data=injury)\n",
        "results_2 = reg_2.fit()"
      ],
      "metadata": {
        "id": "AlqkTNUY6e91"
      },
      "execution_count": null,
      "outputs": []
    },
    {
      "cell_type": "code",
      "source": [
        "table_2 = pd.DataFrame({'b': round(results_2.params, 4),\n",
        "                            'se': round(results_2.bse, 4),\n",
        "                            't': round(results_2.tvalues, 4),\n",
        "                            'pval': round(results_2.pvalues, 4)})\n",
        "print(f'table_2: \\n{table_2}\\n')\n",
        "print(f'R-Squared: {results_2.rsquared}')"
      ],
      "metadata": {
        "colab": {
          "base_uri": "https://localhost:8080/"
        },
        "id": "sOS9cDma6e20",
        "outputId": "ab6d043e-e5e2-4b8a-f0df-caf802d800e9"
      },
      "execution_count": null,
      "outputs": [
        {
          "output_type": "stream",
          "name": "stdout",
          "text": [
            "table_2: \n",
            "                       b      se        t    pval\n",
            "Intercept         1.4291  0.0839  17.0294  0.0000\n",
            "afchnge           0.0286  0.0399   0.7156  0.4743\n",
            "highearn          0.1863  0.0466   3.9972  0.0001\n",
            "afchnge:highearn  0.0989  0.0318   3.1079  0.0019\n",
            "afhigh            0.0989  0.0318   3.1079  0.0019\n",
            "male             -0.0901  0.0402  -2.2441  0.0249\n",
            "married           0.1076  0.0352   3.0625  0.0022\n",
            "head             -0.6835  0.1102  -6.2038  0.0000\n",
            "neck              0.0612  0.1417   0.4321  0.6657\n",
            "upextr           -0.3017  0.0800  -3.7711  0.0002\n",
            "trunk             0.0263  0.0877   0.2999  0.7643\n",
            "lowback          -0.2088  0.0806  -2.5910  0.0096\n",
            "lowextr          -0.2657  0.0814  -3.2619  0.0011\n",
            "\n",
            "R-Squared: 0.030954827310505917\n"
          ]
        }
      ]
    },
    {
      "cell_type": "markdown",
      "source": [
        "#### The previous model has a larger R-squared and therefore is preferable to the first one (3% v.s. 1.5%).\n",
        "\n",
        "#### We observe similar values for the coefficient on the interaction term (afchange*highearn)."
      ],
      "metadata": {
        "id": "H8OpRM91GGy3"
      }
    }
  ]
}